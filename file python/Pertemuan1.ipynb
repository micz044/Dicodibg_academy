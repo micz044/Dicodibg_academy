{
 "cells": [
  {
   "cell_type": "markdown",
   "metadata": {},
   "source": [
    "SHA256:+DiY3wvvV6TuJJhbpZisF/zLDA0zPMSvHdkr4UvCOqU"
   ]
  },
  {
   "cell_type": "code",
   "execution_count": 1,
   "metadata": {},
   "outputs": [],
   "source": [
    "import numpy as np\n",
    "import tensorflow as tf"
   ]
  },
  {
   "cell_type": "code",
   "execution_count": 1,
   "metadata": {},
   "outputs": [
    {
     "name": "stdout",
     "output_type": "stream",
     "text": [
      "10 bertipe <class 'int'>\n",
      "1.7 bertipe <class 'float'>\n",
      "(1+2j)  Bertipe bilangan kompleks?  True\n"
     ]
    }
   ],
   "source": [
    "a = 10\n",
    "print(a, \"bertipe\", type(a))\n",
    "b = 1.7\n",
    "print(b, \"bertipe\", type(b))\n",
    "c = 1+2j\n",
    "print(c, \" Bertipe bilangan kompleks? \", isinstance(1+2j,complex))"
   ]
  },
  {
   "cell_type": "code",
   "execution_count": 2,
   "metadata": {},
   "outputs": [
    {
     "name": "stdout",
     "output_type": "stream",
     "text": [
      "Nama Saya adalah Dicoding\n",
      "Umur Dicoding adalah 5 tahun.\n"
     ]
    }
   ],
   "source": [
    "nama = \"Dicoding\"\n",
    "umur = 5\n",
    "print(\"Nama Saya adalah\", nama) \n",
    "print(\"Umur %s adalah %d tahun.\" % (nama, umur))"
   ]
  },
  {
   "cell_type": "code",
   "execution_count": 5,
   "metadata": {},
   "outputs": [
    {
     "name": "stdout",
     "output_type": "stream",
     "text": [
      "Nilai yang anda masukkan adalah 11.0\n"
     ]
    }
   ],
   "source": [
    "nilai = input('Masukkan nilai yang anda inginkan = ')\n",
    "print('Nilai yang anda masukkan adalah', float(nilai))"
   ]
  },
  {
   "cell_type": "code",
   "execution_count": 10,
   "metadata": {},
   "outputs": [
    {
     "name": "stdout",
     "output_type": "stream",
     "text": [
      "<class 'str'>\n",
      "7\n",
      "MICHAEL\n"
     ]
    }
   ],
   "source": [
    "nama = \"Michael\"\n",
    "print(type(nama))\n",
    "print(len(nama))\n",
    "nama = nama.upper()\n",
    "print(nama)"
   ]
  },
  {
   "cell_type": "code",
   "execution_count": 5,
   "metadata": {},
   "outputs": [
    {
     "name": "stdout",
     "output_type": "stream",
     "text": [
      "10\n"
     ]
    }
   ],
   "source": [
    "if False:\n",
    "    print(9 + \"satu\")  # Baris ini tidak dioperasikan, sehingga tidak muncul notifikasi TypeError\n",
    "else:\n",
    "    print(9 + 1)"
   ]
  },
  {
   "cell_type": "code",
   "execution_count": 1,
   "metadata": {},
   "outputs": [
    {
     "name": "stdout",
     "output_type": "stream",
     "text": [
      "[[1, 1], [9, 27], [25, 125], [49, 343], [81, 729]]\n"
     ]
    }
   ],
   "source": [
    "list = range(1,10,2)\n",
    "x =[[a**2,a**3]for a in list]\n",
    "print(x)\n"
   ]
  }
 ],
 "metadata": {
  "kernelspec": {
   "display_name": "base",
   "language": "python",
   "name": "python3"
  },
  "language_info": {
   "codemirror_mode": {
    "name": "ipython",
    "version": 3
   },
   "file_extension": ".py",
   "mimetype": "text/x-python",
   "name": "python",
   "nbconvert_exporter": "python",
   "pygments_lexer": "ipython3",
   "version": "3.9.13"
  },
  "orig_nbformat": 4
 },
 "nbformat": 4,
 "nbformat_minor": 2
}
